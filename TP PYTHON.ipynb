{
 "cells": [
  {
   "cell_type": "markdown",
   "id": "4bacd7de-b8d4-483f-964e-cbaa5df09d38",
   "metadata": {},
   "source": [
    "## CALENDRIER"
   ]
  },
  {
   "cell_type": "code",
   "execution_count": 3,
   "id": "a8fb8865-95a6-43bf-bbdd-f54177dd4b87",
   "metadata": {},
   "outputs": [
    {
     "name": "stdin",
     "output_type": "stream",
     "text": [
      "Nombre de jours dans le mois :  30\n",
      "Le premier jour du mois (1=LUN, ..., 7=DIM) :  5\n"
     ]
    },
    {
     "name": "stdout",
     "output_type": "stream",
     "text": [
      "LUN MAR MER JEU VEN SAM DIM\n",
      "                 1   2   3  \n",
      " 4   5   6   7   8   9  10  \n",
      "11  12  13  14  15  16  17  \n",
      "18  19  20  21  22  23  24  \n",
      "25  26  27  28  29  30  \n"
     ]
    }
   ],
   "source": [
    "def afficher_calendrier(jours_dans_mois, jour_depart):\n",
    "    # Liste des jours de la semaine\n",
    "    jours_semaine = [\"LUN\", \"MAR\", \"MER\", \"JEU\", \"VEN\", \"SAM\", \"DIM\"]\n",
    "    \n",
    "    # Affichage de l'en-tête des jours\n",
    "    print(\" \".join(jours_semaine))\n",
    "    \n",
    "    # Calcul de l'index de départ en fonction du jour de départ\n",
    "    index_depart = \"    \" * (jour_depart - 1)\n",
    "    \n",
    "    print(index_depart, end=\"\")\n",
    "    \n",
    "    # Affichage des jours du mois\n",
    "    for jour in range(1, jours_dans_mois + 1):\n",
    "        print(f\"{jour:2d}  \", end=\"\")\n",
    "        \n",
    "        # A la fin de la semaine, aller à la ligne\n",
    "        if (jour + jour_depart - 1) % 7 == 0:\n",
    "            print()\n",
    "    \n",
    "    print()\n",
    "\n",
    "# Entrées de l'utilisateur\n",
    "jours_dans_mois = int(input(\"Nombre de jours dans le mois : \"))\n",
    "jour_depart = int(input(\"Le premier jour du mois (1=LUN, ..., 7=DIM) : \"))\n",
    "\n",
    "# Appel de la fonction pour afficher le calendrier\n",
    "afficher_calendrier(jours_dans_mois, jour_depart)"
   ]
  },
  {
   "cell_type": "markdown",
   "id": "926f8750-aa2a-4897-9814-472be21ad0ab",
   "metadata": {},
   "source": [
    "## DECOUPAGE ADMINISTRATIF"
   ]
  },
  {
   "cell_type": "code",
   "execution_count": 12,
   "id": "a832da78-76b8-4ac9-bcd2-ef637ae19639",
   "metadata": {},
   "outputs": [
    {
     "name": "stdout",
     "output_type": "stream",
     "text": [
      "Bienvenue au jeu de connaissances sur les régions du Sénégal !\n",
      "Les 5 meilleurs scores :\n",
      "\n"
     ]
    },
    {
     "ename": "KeyboardInterrupt",
     "evalue": "Interrupted by user",
     "output_type": "error",
     "traceback": [
      "\u001b[1;31m---------------------------------------------------------------------------\u001b[0m",
      "\u001b[1;31mKeyboardInterrupt\u001b[0m                         Traceback (most recent call last)",
      "Cell \u001b[1;32mIn[12], line 75\u001b[0m\n\u001b[0;32m     73\u001b[0m \u001b[38;5;66;03m# Lancer le jeu\u001b[39;00m\n\u001b[0;32m     74\u001b[0m jeu \u001b[38;5;241m=\u001b[39m JeuDeRegions()\n\u001b[1;32m---> 75\u001b[0m jeu\u001b[38;5;241m.\u001b[39mjouer()\n",
      "Cell \u001b[1;32mIn[12], line 67\u001b[0m, in \u001b[0;36mJeuDeRegions.jouer\u001b[1;34m(self)\u001b[0m\n\u001b[0;32m     65\u001b[0m \u001b[38;5;28;01mwhile\u001b[39;00m \u001b[38;5;28;01mTrue\u001b[39;00m:\n\u001b[0;32m     66\u001b[0m     \u001b[38;5;28mself\u001b[39m\u001b[38;5;241m.\u001b[39mafficher_meilleurs_scores()\n\u001b[1;32m---> 67\u001b[0m     \u001b[38;5;28mself\u001b[39m\u001b[38;5;241m.\u001b[39mjouer_une_partie()\n\u001b[0;32m     68\u001b[0m     rejouer \u001b[38;5;241m=\u001b[39m \u001b[38;5;28minput\u001b[39m(\u001b[38;5;124m\"\u001b[39m\u001b[38;5;124mVoulez-vous jouer une autre partie ? (oui/non) : \u001b[39m\u001b[38;5;124m\"\u001b[39m)\u001b[38;5;241m.\u001b[39mstrip()\u001b[38;5;241m.\u001b[39mlower()\n\u001b[0;32m     69\u001b[0m     \u001b[38;5;28;01mif\u001b[39;00m rejouer \u001b[38;5;241m!=\u001b[39m \u001b[38;5;124m\"\u001b[39m\u001b[38;5;124moui\u001b[39m\u001b[38;5;124m\"\u001b[39m:\n",
      "Cell \u001b[1;32mIn[12], line 56\u001b[0m, in \u001b[0;36mJeuDeRegions.jouer_une_partie\u001b[1;34m(self)\u001b[0m\n\u001b[0;32m     53\u001b[0m     questions_posees\u001b[38;5;241m.\u001b[39madd(region)\n\u001b[0;32m     55\u001b[0m     \u001b[38;5;66;03m# Poser la question et mise à jour du score\u001b[39;00m\n\u001b[1;32m---> 56\u001b[0m     \u001b[38;5;28;01mif\u001b[39;00m \u001b[38;5;28mself\u001b[39m\u001b[38;5;241m.\u001b[39mposer_question(region, chef_lieu):\n\u001b[0;32m     57\u001b[0m         score \u001b[38;5;241m+\u001b[39m\u001b[38;5;241m=\u001b[39m \u001b[38;5;241m1\u001b[39m\n\u001b[0;32m     59\u001b[0m \u001b[38;5;66;03m# Afficher le score final et l'ajouter aux meilleurs scores\u001b[39;00m\n",
      "Cell \u001b[1;32mIn[12], line 33\u001b[0m, in \u001b[0;36mJeuDeRegions.poser_question\u001b[1;34m(self, region, chef_lieu)\u001b[0m\n\u001b[0;32m     32\u001b[0m \u001b[38;5;28;01mdef\u001b[39;00m \u001b[38;5;21mposer_question\u001b[39m(\u001b[38;5;28mself\u001b[39m, region, chef_lieu):\n\u001b[1;32m---> 33\u001b[0m     reponse \u001b[38;5;241m=\u001b[39m \u001b[38;5;28minput\u001b[39m(\u001b[38;5;124mf\u001b[39m\u001b[38;5;124m\"\u001b[39m\u001b[38;5;124mQuel est le chef-lieu de la région \u001b[39m\u001b[38;5;132;01m{\u001b[39;00mregion\u001b[38;5;132;01m}\u001b[39;00m\u001b[38;5;124m ? \u001b[39m\u001b[38;5;124m\"\u001b[39m)\u001b[38;5;241m.\u001b[39mstrip()\n\u001b[0;32m     34\u001b[0m     \u001b[38;5;28;01mif\u001b[39;00m reponse\u001b[38;5;241m.\u001b[39mlower() \u001b[38;5;241m==\u001b[39m chef_lieu\u001b[38;5;241m.\u001b[39mlower():\n\u001b[0;32m     35\u001b[0m         \u001b[38;5;28mprint\u001b[39m(\u001b[38;5;124m\"\u001b[39m\u001b[38;5;124mBonne réponse!\u001b[39m\u001b[38;5;124m\"\u001b[39m)\n",
      "File \u001b[1;32m~\\anaconda3\\Lib\\site-packages\\ipykernel\\kernelbase.py:1262\u001b[0m, in \u001b[0;36mKernel.raw_input\u001b[1;34m(self, prompt)\u001b[0m\n\u001b[0;32m   1260\u001b[0m     msg \u001b[38;5;241m=\u001b[39m \u001b[38;5;124m\"\u001b[39m\u001b[38;5;124mraw_input was called, but this frontend does not support input requests.\u001b[39m\u001b[38;5;124m\"\u001b[39m\n\u001b[0;32m   1261\u001b[0m     \u001b[38;5;28;01mraise\u001b[39;00m StdinNotImplementedError(msg)\n\u001b[1;32m-> 1262\u001b[0m \u001b[38;5;28;01mreturn\u001b[39;00m \u001b[38;5;28mself\u001b[39m\u001b[38;5;241m.\u001b[39m_input_request(\n\u001b[0;32m   1263\u001b[0m     \u001b[38;5;28mstr\u001b[39m(prompt),\n\u001b[0;32m   1264\u001b[0m     \u001b[38;5;28mself\u001b[39m\u001b[38;5;241m.\u001b[39m_parent_ident[\u001b[38;5;124m\"\u001b[39m\u001b[38;5;124mshell\u001b[39m\u001b[38;5;124m\"\u001b[39m],\n\u001b[0;32m   1265\u001b[0m     \u001b[38;5;28mself\u001b[39m\u001b[38;5;241m.\u001b[39mget_parent(\u001b[38;5;124m\"\u001b[39m\u001b[38;5;124mshell\u001b[39m\u001b[38;5;124m\"\u001b[39m),\n\u001b[0;32m   1266\u001b[0m     password\u001b[38;5;241m=\u001b[39m\u001b[38;5;28;01mFalse\u001b[39;00m,\n\u001b[0;32m   1267\u001b[0m )\n",
      "File \u001b[1;32m~\\anaconda3\\Lib\\site-packages\\ipykernel\\kernelbase.py:1305\u001b[0m, in \u001b[0;36mKernel._input_request\u001b[1;34m(self, prompt, ident, parent, password)\u001b[0m\n\u001b[0;32m   1302\u001b[0m \u001b[38;5;28;01mexcept\u001b[39;00m \u001b[38;5;167;01mKeyboardInterrupt\u001b[39;00m:\n\u001b[0;32m   1303\u001b[0m     \u001b[38;5;66;03m# re-raise KeyboardInterrupt, to truncate traceback\u001b[39;00m\n\u001b[0;32m   1304\u001b[0m     msg \u001b[38;5;241m=\u001b[39m \u001b[38;5;124m\"\u001b[39m\u001b[38;5;124mInterrupted by user\u001b[39m\u001b[38;5;124m\"\u001b[39m\n\u001b[1;32m-> 1305\u001b[0m     \u001b[38;5;28;01mraise\u001b[39;00m \u001b[38;5;167;01mKeyboardInterrupt\u001b[39;00m(msg) \u001b[38;5;28;01mfrom\u001b[39;00m \u001b[38;5;28;01mNone\u001b[39;00m\n\u001b[0;32m   1306\u001b[0m \u001b[38;5;28;01mexcept\u001b[39;00m \u001b[38;5;167;01mException\u001b[39;00m:\n\u001b[0;32m   1307\u001b[0m     \u001b[38;5;28mself\u001b[39m\u001b[38;5;241m.\u001b[39mlog\u001b[38;5;241m.\u001b[39mwarning(\u001b[38;5;124m\"\u001b[39m\u001b[38;5;124mInvalid Message:\u001b[39m\u001b[38;5;124m\"\u001b[39m, exc_info\u001b[38;5;241m=\u001b[39m\u001b[38;5;28;01mTrue\u001b[39;00m)\n",
      "\u001b[1;31mKeyboardInterrupt\u001b[0m: Interrupted by user"
     ]
    }
   ],
   "source": [
    "import random\n",
    "\n",
    "class JeuDeRegions:\n",
    "    def __init__(self):\n",
    "        # Dictionnaire des régions et des chefs-lieux\n",
    "        self.regions = {\n",
    "            \"Dakar\": \"Ville de Dakar\",\n",
    "            \"Thiès\": \"Ville de Thiès\",\n",
    "            \"Diourbel\": \"Ville de Diourbel\",\n",
    "            \"Kaolack\": \"Ville de Kaolack\",\n",
    "            \"Fatick\": \"Ville de Fatick\",\n",
    "            \"Ziguinchor\": \"Ville de Ziguinchor\",\n",
    "            \"Saint-Louis\": \"Ville de Saint-Louis\",\n",
    "            \"Tambacounda\": \"Ville de Tambacounda\",\n",
    "            \"Kédougou\": \"Ville de Kédougou\",\n",
    "            \"Kolda\": \"Ville de Kolda\",\n",
    "            \"Sédhiou\": \"Ville de Sédhiou\",\n",
    "            \"Matam\": \"Ville de Matam\",\n",
    "            \"Louga\": \"Ville de Louga\",\n",
    "            \"Kaffrine\": \"Ville de Kaffrine\"\n",
    "        }\n",
    "        # Liste pour enregistrer les meilleurs scores\n",
    "        self.meilleurs_scores = []\n",
    "\n",
    "    def afficher_meilleurs_scores(self):\n",
    "        print(\"Les 5 meilleurs scores :\")\n",
    "        meilleurs = sorted(self.meilleurs_scores, reverse=True)[:5]\n",
    "        for i, score in enumerate(meilleurs):\n",
    "            print(f\"{i + 1}. {score} points\")\n",
    "        print()\n",
    "\n",
    "    def poser_question(self, region, chef_lieu):\n",
    "        reponse = input(f\"Quel est le chef-lieu de la région {region} ? \").strip()\n",
    "        if reponse.lower() == chef_lieu.lower():\n",
    "            print(\"Bonne réponse!\")\n",
    "            return True\n",
    "        else:\n",
    "            print(f\"Mauvaise réponse. La bonne réponse est : {chef_lieu}\")\n",
    "            return False\n",
    "\n",
    "    def jouer_une_partie(self):\n",
    "        questions_posees = set()\n",
    "        score = 0\n",
    "\n",
    "        # Boucle pour poser 10 questions différentes\n",
    "        while len(questions_posees) < 10:\n",
    "            region, chef_lieu = random.choice(list(self.regions.items()))\n",
    "            \n",
    "            # Vérifie que la région n'a pas déjà été posée\n",
    "            if region in questions_posees:\n",
    "                continue\n",
    "            \n",
    "            questions_posees.add(region)\n",
    "            \n",
    "            # Poser la question et mise à jour du score\n",
    "            if self.poser_question(region, chef_lieu):\n",
    "                score += 1\n",
    "\n",
    "        # Afficher le score final et l'ajouter aux meilleurs scores\n",
    "        print(f\"Votre score final est : {score} points.\")\n",
    "        self.meilleurs_scores.append(score)\n",
    "\n",
    "    def jouer(self):\n",
    "        print(\"Bienvenue au jeu de connaissances sur les régions du Sénégal !\")\n",
    "        while True:\n",
    "            self.afficher_meilleurs_scores()\n",
    "            self.jouer_une_partie()\n",
    "            rejouer = input(\"Voulez-vous jouer une autre partie ? (oui/non) : \").strip().lower()\n",
    "            if rejouer != \"oui\":\n",
    "                print(\"Merci d'avoir joué, Dieureudieuf ! Ba benen yone.\")\n",
    "                break\n",
    "\n",
    "# Lancer le jeu\n",
    "jeu = JeuDeRegions()\n",
    "jeu.jouer()"
   ]
  },
  {
   "cell_type": "code",
   "execution_count": null,
   "id": "c0aa2d2d-0167-4748-85c6-73e5517162f0",
   "metadata": {},
   "outputs": [],
   "source": []
  }
 ],
 "metadata": {
  "kernelspec": {
   "display_name": "Python 3 (ipykernel)",
   "language": "python",
   "name": "python3"
  },
  "language_info": {
   "codemirror_mode": {
    "name": "ipython",
    "version": 3
   },
   "file_extension": ".py",
   "mimetype": "text/x-python",
   "name": "python",
   "nbconvert_exporter": "python",
   "pygments_lexer": "ipython3",
   "version": "3.12.4"
  }
 },
 "nbformat": 4,
 "nbformat_minor": 5
}
